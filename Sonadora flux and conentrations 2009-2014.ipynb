{
 "cells": [
  {
   "cell_type": "markdown",
   "metadata": {},
   "source": [
    "Quebrada Sonadora Nutrient Exports\n",
    "---\n",
    "Fluxes were calculated using the “loadflex” program (Appling et al. 2015), which is an enhancement of the widely used USGS “LOADEST” model (Runkel et al. 2004) as implemented in R. Both loadflex and LOADEST rely primarily on relationships between concentration of a solute and instantaneous discharge at the time of sampling to estimate concentrations when measured values of river chemistry are not available. In practice, and in our case, this often means that the 15-minute record of discharge at a given station is paired with an estimate of concentration based on weekly grab samples that span a range of discharge conditions.  \n",
    "\n",
    "First load some r packages we will use."
   ]
  },
  {
   "cell_type": "code",
   "execution_count": 1,
   "metadata": {},
   "outputs": [
    {
     "name": "stderr",
     "output_type": "stream",
     "text": [
      "Loading required package: smwrBase\n",
      "Loading required package: lubridate\n",
      "\n",
      "Attaching package: 'lubridate'\n",
      "\n",
      "The following object is masked from 'package:base':\n",
      "\n",
      "    date\n",
      "\n",
      "Loading required package: smwrGraphs\n",
      "USGS Support Package: https://owi.usgs.gov/R/packages.html#support\n",
      "Loading required package: smwrStats\n",
      "This information is preliminary or provisional and\n",
      "is subject to revision. It is being provided to meet\n",
      "the need for timely best science. The information\n",
      "has not received final approval by the U.S. Geological\n",
      "Survey (USGS) and is provided on the condition that\n",
      "neither the USGS nor the U.S. Government shall be held\n",
      "liable for any damages resulting from the authorized\n",
      "or unauthorized use of the information.\n",
      "\n",
      "****Orphaned Package****\n",
      "This package is looking for a new maintainer. For more information, \n",
      "see: https://owi.usgs.gov/R/packages.html#orphan\n",
      "Loading required package: smwrQW\n",
      "Loading required package: dataRetrieval\n",
      "This information is preliminary or provisional and\n",
      "is subject to revision. It is being provided to meet\n",
      "the need for timely best science. The information\n",
      "has not received final approval by the U.S. Geological\n",
      "Survey (USGS) and is provided on the condition that\n",
      "neither the USGS nor the U.S. Government shall be held\n",
      "liable for any damages resulting from the authorized\n",
      "or unauthorized use of the information.\n",
      "\n",
      "****Orphaned Package****\n",
      "This package is looking for a new maintainer. For more information, \n",
      "see: https://owi.usgs.gov/R/packages.html#orphan\n",
      "\n",
      "Attaching package: 'smwrQW'\n",
      "\n",
      "The following object is masked from 'jupyter:irkernel':\n",
      "\n",
      "    View\n",
      "\n",
      "The following object is masked from 'package:utils':\n",
      "\n",
      "    View\n",
      "\n",
      "This information is preliminary or provisional and\n",
      "is subject to revision. It is being provided to meet\n",
      "the need for timely best science. The information\n",
      "has not received final approval by the U.S. Geological\n",
      "Survey (USGS) and is provided on the condition that\n",
      "neither the USGS nor the U.S. Government shall be held\n",
      "liable for any damages resulting from the authorized\n",
      "or unauthorized use of the information.\n",
      "\n",
      "****Orphaned Package****\n",
      "This package is looking for a new maintainer. For more information, \n",
      "see: https://owi.usgs.gov/R/packages.html#orphan\n"
     ]
    }
   ],
   "source": [
    "library('loadflex')\n",
    "library('rloadest')"
   ]
  },
  {
   "cell_type": "markdown",
   "metadata": {},
   "source": [
    "Initially here we will load discharge and weekly grab sample data from csv files. This notebook details nutrient fluxes for the Quebrada Sonadora sampling site which has a watershed area of 261.58 hectares. "
   ]
  },
  {
   "cell_type": "code",
   "execution_count": 2,
   "metadata": {},
   "outputs": [],
   "source": [
    "QS_chem <- readRDS(\"data/QS_chem_UNH.rds\")\n",
    "QSDischargeShort <- readRDS(\"data/QS_Discharge_USGS.rds\")\n",
    "QSWatershedArea <- 261.5888\n"
   ]
  },
  {
   "cell_type": "markdown",
   "metadata": {},
   "source": [
    "Calculate flux totals and mean annual concentration for Na. "
   ]
  },
  {
   "cell_type": "code",
   "execution_count": 3,
   "metadata": {},
   "outputs": [
    {
     "name": "stderr",
     "output_type": "stream",
     "text": [
      "You are fitting an rloadest model (loadReg). Please remember to cite both citation('loadflex') and citation('rloadest').\n",
      "Warning message in loadReg(Na_mg_L ~ model(1), data = QS_chemNa, flow = \"CFS\", dates = \"date\", :\n",
      "\"The minimum spacing between observed loads is 6 days. The time between observations should be at least  7 days to avoid autocorrelation issues.\""
     ]
    }
   ],
   "source": [
    "QS_chemNa <- QS_chem[complete.cases(QS_chem[\"Na_mg_L\"]),]\n",
    "QS_chemNa <- QS_chemNa[complete.cases(QS_chemNa[\"CFS\"]),]\n",
    "\n",
    "\n",
    "meta <- metadata(constituent=\"Na_mg_L\", flow=\"CFS\", \n",
    "                 dates=\"date\", conc.units=\"mg/L\", flow.units=\"cfs\", load.units=\"kg\", \n",
    "                 load.rate.units=\"kg d^-1\")\n",
    "\n",
    "\n",
    "lr <- loadReg2(loadReg(Na_mg_L ~ model(1), data=QS_chemNa,\n",
    "                       flow=\"CFS\", dates=\"date\", time.step=\"instantaneous\", \n",
    "                       flow.units=\"cfs\", conc.units=\"mg/L\", load.units=\"kg\"))\n",
    "\n",
    "\n",
    "lc <- loadComp(reg.model=lr, interp.format=\"flux\", \n",
    "               interp.data=QS_chemNa, abs.or.rel.resids=\"relative\", interp.function=rectangularInterpolation)\n",
    "\n",
    "# preds_lrNa <- predictSolute(lc, \"flux\",interval=\"prediction\", QSDischargeShort, se.pred=TRUE, date=TRUE)\n",
    "\n",
    "preds_lcNa <- predictSolute(lc, \"flux\",interval=\"prediction\", QSDischargeShort, se.pred=TRUE, date=TRUE)\n",
    "\n",
    "aggs_lcNa <- aggregateSolute(preds_lcNa,meta, format=\"flux total\", se.preds=preds_lcNa$se.pred, agg.by=\"calendar year\")\n",
    "\n",
    "lcConc <- loadComp(reg.model=lr, interp.format=\"conc\", \n",
    "                   interp.data=QS_chemNa, abs.or.rel.resids=\"relative\", interp.function=rectangularInterpolation)\n",
    "\n",
    "preds_lcNaConc <- predictSolute(lcConc, \"conc\",interval=\"prediction\", QSDischargeShort, se.pred=TRUE, date=TRUE)\n",
    "\n",
    "aggs_lcNaConc <- aggregateSolute(preds_lcNaConc,meta, format=\"conc\", se.preds=preds_lcNaConc$se.pred, agg.by=\"calendar year\")\n",
    "\n",
    "aggs_lcNa$Na_Kg_Ha_yr <- aggs_lcNa$Flux_Total / QSWatershedArea\n",
    "aggs_lcNa$Na_mg_l <- aggs_lcNaConc$Conc\n",
    "FluxTtotalsdf <- aggs_lcNa[, c('Na_mg_l','Na_Kg_Ha_yr','Calendar_Year')]"
   ]
  },
  {
   "cell_type": "markdown",
   "metadata": {},
   "source": [
    "Calculate flux totals and mean annual concentration for Ca. "
   ]
  },
  {
   "cell_type": "code",
   "execution_count": 7,
   "metadata": {},
   "outputs": [
    {
     "name": "stderr",
     "output_type": "stream",
     "text": [
      "Warning message in loadReg(Ca_mg_L ~ model(1), data = QS_chemCa, flow = \"CFS\", dates = \"date\", :\n",
      "\"The minimum spacing between observed loads is 6 days. The time between observations should be at least  7 days to avoid autocorrelation issues.\""
     ]
    },
    {
     "data": {
      "text/html": [
       "<table>\n",
       "<thead><tr><th scope=col>Ca_mg_l</th><th scope=col>Ca_Kg_Ha_yr</th><th scope=col>Calendar_Year</th></tr></thead>\n",
       "<tbody>\n",
       "\t<tr><td>2.703553 </td><td> 56.91087</td><td>2009     </td></tr>\n",
       "\t<tr><td>2.612966 </td><td>108.80531</td><td>2010     </td></tr>\n",
       "\t<tr><td>2.826335 </td><td>129.89182</td><td>2011     </td></tr>\n",
       "\t<tr><td>2.672091 </td><td>103.35769</td><td>2012     </td></tr>\n",
       "\t<tr><td>2.518787 </td><td> 93.10251</td><td>2013     </td></tr>\n",
       "\t<tr><td>2.920442 </td><td> 75.58819</td><td>2014     </td></tr>\n",
       "</tbody>\n",
       "</table>\n"
      ],
      "text/latex": [
       "\\begin{tabular}{r|lll}\n",
       " Ca\\_mg\\_l & Ca\\_Kg\\_Ha\\_yr & Calendar\\_Year\\\\\n",
       "\\hline\n",
       "\t 2.703553  &  56.91087 & 2009     \\\\\n",
       "\t 2.612966  & 108.80531 & 2010     \\\\\n",
       "\t 2.826335  & 129.89182 & 2011     \\\\\n",
       "\t 2.672091  & 103.35769 & 2012     \\\\\n",
       "\t 2.518787  &  93.10251 & 2013     \\\\\n",
       "\t 2.920442  &  75.58819 & 2014     \\\\\n",
       "\\end{tabular}\n"
      ],
      "text/markdown": [
       "\n",
       "Ca_mg_l | Ca_Kg_Ha_yr | Calendar_Year | \n",
       "|---|---|---|---|---|---|\n",
       "| 2.703553  |  56.91087 | 2009      | \n",
       "| 2.612966  | 108.80531 | 2010      | \n",
       "| 2.826335  | 129.89182 | 2011      | \n",
       "| 2.672091  | 103.35769 | 2012      | \n",
       "| 2.518787  |  93.10251 | 2013      | \n",
       "| 2.920442  |  75.58819 | 2014      | \n",
       "\n",
       "\n"
      ],
      "text/plain": [
       "  Ca_mg_l  Ca_Kg_Ha_yr Calendar_Year\n",
       "1 2.703553  56.91087   2009         \n",
       "2 2.612966 108.80531   2010         \n",
       "3 2.826335 129.89182   2011         \n",
       "4 2.672091 103.35769   2012         \n",
       "5 2.518787  93.10251   2013         \n",
       "6 2.920442  75.58819   2014         "
      ]
     },
     "metadata": {},
     "output_type": "display_data"
    }
   ],
   "source": [
    "QS_chemCa <- QS_chem[complete.cases(QS_chem[\"Ca_mg_L\"]),]\n",
    "QS_chemCa <- QS_chemCa[complete.cases(QS_chemCa[\"CFS\"]),]\n",
    "\n",
    "meta <- metadata(constituent=\"Ca_mg_L\", flow=\"CFS\", \n",
    "                 dates=\"date\", conc.units=\"mg/L\", flow.units=\"cfs\", load.units=\"kg\", \n",
    "                 load.rate.units=\"kg d^-1\", station=\"Rio Piedras, PR\")\n",
    "\n",
    "\n",
    "lr <- loadReg2(loadReg(Ca_mg_L ~ model(1), data=QS_chemCa,\n",
    "                       flow=\"CFS\", dates=\"date\", time.step=\"instantaneous\", \n",
    "                       flow.units=\"cfs\", conc.units=\"mg/L\", load.units=\"kg\"))\n",
    "\n",
    "lc <- loadComp(reg.model=lr, interp.format=\"flux\", \n",
    "               interp.data=QS_chemCa, abs.or.rel.resids=\"relative\", interp.function=rectangularInterpolation)\n",
    "\n",
    "preds_lrCa <- predictSolute(lc, \"flux\",interval=\"prediction\", QSDischargeShort, se.pred=TRUE, date=TRUE)\n",
    "\n",
    "aggs_lrCa <- aggregateSolute(preds_lrCa,meta, format=\"flux total\", se.preds=preds_lrCa$se.pred, agg.by=\"calendar year\")\n",
    "\n",
    "lcConc <- loadComp(reg.model=lr, interp.format=\"conc\", \n",
    "                   interp.data=QS_chemCa, abs.or.rel.resids=\"relative\", interp.function=rectangularInterpolation)\n",
    "\n",
    "preds_lcCaConc <- predictSolute(lcConc, \"conc\",interval=\"prediction\", QSDischargeShort, se.pred=TRUE, date=TRUE)\n",
    "\n",
    "aggs_lcCaConc <- aggregateSolute(preds_lcCaConc,meta, format=\"conc\", se.preds=preds_lcCaConc$se.pred, agg.by=\"calendar year\")\n",
    "\n",
    "aggs_lrCa$Ca_Kg_Ha_yr <- aggs_lrCa$Flux_Total / QSWatershedArea\n",
    "aggs_lrCa$Ca_mg_l <- aggs_lcCaConc$Conc\n",
    "FluxTtotalsdfCa <- aggs_lrCa[, c('Ca_mg_l','Ca_Kg_Ha_yr')]\n",
    "FluxTtotalsdfCa <- merge(FluxTtotalsdfCa,FluxTtotalsdf)\n",
    "FluxTtotalsdf"
   ]
  },
  {
   "cell_type": "code",
   "execution_count": 6,
   "metadata": {},
   "outputs": [
    {
     "data": {
      "text/html": [
       "<table>\n",
       "<thead><tr><th scope=col>Ca_mg_l</th><th scope=col>Ca_Kg_Ha_yr</th><th scope=col>Calendar_Year</th></tr></thead>\n",
       "<tbody>\n",
       "\t<tr><td>2.703553 </td><td> 56.91087</td><td>2009     </td></tr>\n",
       "\t<tr><td>2.612966 </td><td>108.80531</td><td>2010     </td></tr>\n",
       "\t<tr><td>2.826335 </td><td>129.89182</td><td>2011     </td></tr>\n",
       "\t<tr><td>2.672091 </td><td>103.35769</td><td>2012     </td></tr>\n",
       "\t<tr><td>2.518787 </td><td> 93.10251</td><td>2013     </td></tr>\n",
       "\t<tr><td>2.920442 </td><td> 75.58819</td><td>2014     </td></tr>\n",
       "</tbody>\n",
       "</table>\n"
      ],
      "text/latex": [
       "\\begin{tabular}{r|lll}\n",
       " Ca\\_mg\\_l & Ca\\_Kg\\_Ha\\_yr & Calendar\\_Year\\\\\n",
       "\\hline\n",
       "\t 2.703553  &  56.91087 & 2009     \\\\\n",
       "\t 2.612966  & 108.80531 & 2010     \\\\\n",
       "\t 2.826335  & 129.89182 & 2011     \\\\\n",
       "\t 2.672091  & 103.35769 & 2012     \\\\\n",
       "\t 2.518787  &  93.10251 & 2013     \\\\\n",
       "\t 2.920442  &  75.58819 & 2014     \\\\\n",
       "\\end{tabular}\n"
      ],
      "text/markdown": [
       "\n",
       "Ca_mg_l | Ca_Kg_Ha_yr | Calendar_Year | \n",
       "|---|---|---|---|---|---|\n",
       "| 2.703553  |  56.91087 | 2009      | \n",
       "| 2.612966  | 108.80531 | 2010      | \n",
       "| 2.826335  | 129.89182 | 2011      | \n",
       "| 2.672091  | 103.35769 | 2012      | \n",
       "| 2.518787  |  93.10251 | 2013      | \n",
       "| 2.920442  |  75.58819 | 2014      | \n",
       "\n",
       "\n"
      ],
      "text/plain": [
       "  Ca_mg_l  Ca_Kg_Ha_yr Calendar_Year\n",
       "1 2.703553  56.91087   2009         \n",
       "2 2.612966 108.80531   2010         \n",
       "3 2.826335 129.89182   2011         \n",
       "4 2.672091 103.35769   2012         \n",
       "5 2.518787  93.10251   2013         \n",
       "6 2.920442  75.58819   2014         "
      ]
     },
     "metadata": {},
     "output_type": "display_data"
    }
   ],
   "source": [
    "FluxTtotalsdf"
   ]
  },
  {
   "cell_type": "code",
   "execution_count": null,
   "metadata": {},
   "outputs": [],
   "source": []
  }
 ],
 "metadata": {
  "kernelspec": {
   "display_name": "R",
   "language": "R",
   "name": "ir"
  },
  "language_info": {
   "codemirror_mode": "r",
   "file_extension": ".r",
   "mimetype": "text/x-r-source",
   "name": "R",
   "pygments_lexer": "r",
   "version": "3.5.1"
  }
 },
 "nbformat": 4,
 "nbformat_minor": 2
}
